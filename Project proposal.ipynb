{
 "cells": [
  {
   "cell_type": "markdown",
   "metadata": {},
   "source": [
    "# DATA 608 Project Proposal"
   ]
  },
  {
   "cell_type": "markdown",
   "metadata": {},
   "source": [
    "Your final project is to create a public visualization using data relevant to a current policy, business, or justice issue. You may use any dataset you can find for this assignment, as long as it is either public or you have permission from the data’s owner/administrator to work with it and share it.\n",
    "\n",
    "Recommended data sources are: governmental data, data provided by a non-profit/Nongovernmental organizations, and data available from large, semi-structured data sets (ie social networks, company financials, etc).\n",
    "\n",
    "You must document each step of your data analysis process (excluding data acquisition) in code: this will include changing the format of the data and the creation of any images or interactive displays that are made.\n",
    "\n",
    "You must also include a short (2-3 paragraph) write-up on the visualization. This write-up must include the following: the data source, what the parameters of the data set are (geography, timeframe, what the data points are, etc) what the data shows, and why it is important.\n",
    "\n",
    "Grading:\n",
    "\n",
    "This assignment will account for 40% of your final grade. Points will be awarded for the following components:\n",
    "\n",
    "25% - finding your dataset(s) and getting approval for your project on-time, recognition of strength/weaknesses of data, analysis to find insights in the data\n",
    "25% - data handling: cleaning, outlier/null handling, and transfer/loading data to the web\n",
    "40% - data presentation: compliance with best data visualization practices, clarity, information-to-ink ratio, how memorable the visualization is\n",
    "10% - contextual write-up: why the data is important, why the insights are important Due\n",
    "Dates:\n",
    "\n",
    "Note - The type of deliverable you provide will depend on the strategy you use for this project. If you put together an interactive visualization, you should be able to provide code that I will be able to run and host locally. If you are choosing static visualizations, your write up will be more important to your overall grade, and it may be useful to think about how you’re presenting these visualizations (in a formated R markdown document for example.)\n",
    "\n",
    "Proposal\n",
    "\n",
    "You must submit a proposal for your project by 03/26. This proposal must include: a link to the data source, an explanation of what you want to show, why this is relevant to a current policy, business, or justice issue, and which technologies you plan to use.\n",
    "\n",
    "Your instructor must approve this proposal: you may have to refine this somewhat. You will present your final project during our last meetup. If you are not able to attend the lecture on those days, you must write-up a status report with screenshots of current progress and issues you are experiencing."
   ]
  },
  {
   "cell_type": "markdown",
   "metadata": {},
   "source": [
    "## Objective\n",
    "\n",
    "What are the factors that makes a beer favourite among the beer drinkers? How does a beer taste, aroma, appearance, palate, review time affects it's overall rating."
   ]
  },
  {
   "cell_type": "markdown",
   "metadata": {},
   "source": [
    "## Data\n",
    "\n",
    "For this project data I will be using the kaggle dataset <a href=https://www.kaggle.com/code/aieducation/how-delicious-is-this-beer-eda-lightgbm/data>beer_reviews.csv</a>. The dataset has 1.5 million beer reviews , with ratings for appearance, aroma, palate, taste, and overall impression.\n",
    "\n",
    "### Dataset overview\n",
    "\n",
    "Name of the column along with the description\n",
    "\n",
    "- brewery_name: The name of the brewery that made the beer. (String)\n",
    "- review_time: The date and time of the review. (String)\n",
    "- review_overall: The reviewer's overall rating of the beer on a scale of 1 to 5. (Float)\n",
    "- review_aroma: The reviewer's rating of the beer's aroma on a scale of 1 to 5. (Float)\n",
    "- review_appearance: The reviewer's rating of the beer's appearance on a scale of 1 to 5. (Float)\n",
    "- review_profilename: The reviewer's username. (String)\n",
    "- beer_style: The style of beer. (String)\n",
    "- review_palate: The reviewer's rating of the beer's palate on a scale of 1 to 5. (Float)\n",
    "- review_taste: The reviewer's rating of the beer's taste on a scale of 1 to 5. (Float)\n",
    "- beer_name: The name of the beer. (String)\n",
    "- beer_abv: The alcohol by volume of the beer. (Float)\n",
    "\n"
   ]
  },
  {
   "cell_type": "markdown",
   "metadata": {},
   "source": [
    "## Packages\n",
    "\n",
    "I will be developing this project in Python and will be using the available python packages and libraries as per the projects need. I will also create interactive plots using plotly in order to visualize the data."
   ]
  },
  {
   "cell_type": "markdown",
   "metadata": {},
   "source": [
    "## Hypothesis\n",
    "\n",
    "I hypothesize based on my experience of drinking beers and also from some of my friend's experience that overall rating of a beer should be significantly based on a beer's taste and aroma.\n"
   ]
  },
  {
   "cell_type": "code",
   "execution_count": null,
   "metadata": {},
   "outputs": [],
   "source": []
  }
 ],
 "metadata": {
  "kernelspec": {
   "display_name": "Python 3",
   "language": "python",
   "name": "python3"
  },
  "language_info": {
   "codemirror_mode": {
    "name": "ipython",
    "version": 3
   },
   "file_extension": ".py",
   "mimetype": "text/x-python",
   "name": "python",
   "nbconvert_exporter": "python",
   "pygments_lexer": "ipython3",
   "version": "3.8.5"
  }
 },
 "nbformat": 4,
 "nbformat_minor": 4
}
